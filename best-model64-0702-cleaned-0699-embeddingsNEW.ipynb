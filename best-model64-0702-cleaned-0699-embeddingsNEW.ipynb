{
 "cells": [
  {
   "cell_type": "markdown",
   "metadata": {
    "_uuid": "6f5ea96dfcc682c232d6cbb6cebd8b48ecabf8fe"
   },
   "source": [
    "### Preface\n",
    "\n",
    "Hello Kagglers. I'm relatively new to machine learning and learned a lot by peeking to other people's Kernels in this competition. This Kernel is a Frankestein of different codes I found here. My model architecture is an extension of the Basic LSTM model with using Stratified K-folds. The various Kernels which I borrowed code are:\n",
    "\n",
    "* https://www.kaggle.com/gmhost/gru-capsule\n",
    "* How to: Preprocessing when using embeddings\n",
    "https://www.kaggle.com/christofhenkel/how-to-preprocessing-when-using-embeddings\n",
    "* Improve your Score with some Text Preprocessing https://www.kaggle.com/theoviel/improve-your-score-with-some-text-preprocessing\n",
    "* Simple attention layer taken from https://github.com/mttk/rnn-classifier/blob/master/model.py\n",
    "* https://www.kaggle.com/ziliwang/baseline-pytorch-bilstm\n",
    "* https://www.kaggle.com/hengzheng/pytorch-starter"
   ]
  },
  {
   "cell_type": "markdown",
   "metadata": {
    "_uuid": "710ed17d0c57bd287be0ee3b2782a53a54510561"
   },
   "source": [
    "## IMPORTS "
   ]
  },
  {
   "cell_type": "code",
   "execution_count": 26,
   "metadata": {
    "_uuid": "abb7e3c30b8a412a50c6b451c49939e3cf4bc11b"
   },
   "outputs": [],
   "source": [
    "import gc\n",
    "import os\n",
    "import random\n",
    "import re\n",
    "import time\n",
    "from collections import Counter\n",
    "\n",
    "import numpy as np\n",
    "import pandas as pd\n",
    "from nltk import word_tokenize\n",
    "from sklearn.metrics import f1_score, roc_curve, precision_recall_curve\n",
    "\n",
    "# cross validation and metrics\n",
    "from sklearn.model_selection import StratifiedKFold\n",
    "from tqdm import tnrange, tqdm_notebook\n",
    "from tqdm.auto import tqdm\n",
    "\n",
    "import spacy\n",
    "import torch\n",
    "import torch.nn as nn\n",
    "import torch.nn.functional as F\n",
    "import torch.optim as optim\n",
    "import torchtext\n",
    "from keras.preprocessing.sequence import pad_sequences\n",
    "from keras.preprocessing.text import Tokenizer\n",
    "from textblob import TextBlob\n",
    "from torch.autograd import Variable\n",
    "from torch.nn.utils.rnn import pack_padded_sequence, pad_packed_sequence\n",
    "from torch.optim.optimizer import Optimizer\n",
    "from torch.utils.data import DataLoader, Dataset\n",
    "from torchtext import data\n",
    "from torchtext.data import Example\n",
    "\n",
    "tqdm.pandas(desc=\"Progress\")"
   ]
  },
  {
   "cell_type": "markdown",
   "metadata": {
    "_uuid": "9a4ff5590a6f152dc1bec5aeca79aef10218f7de"
   },
   "source": [
    "### Basic Parameters"
   ]
  },
  {
   "cell_type": "code",
   "execution_count": 27,
   "metadata": {
    "_uuid": "deee49df5ca1c4413f71677939e26aa1ff784e44"
   },
   "outputs": [],
   "source": [
    "embed_size = 300  # how big is each word vector\n",
    "max_features = 120000  # how many unique words to use (i.e num rows in embedding vector)\n",
    "maxlen = 70  # max number of words in a question to use\n",
    "batch_size = 512  # how many samples to process at once\n",
    "n_epochs = 5  # how many times to iterate over all samples\n",
    "n_splits = 5  # Number of K-fold Splits\n",
    "\n",
    "SEED = 1029"
   ]
  },
  {
   "cell_type": "markdown",
   "metadata": {
    "_uuid": "654cbe3c8a1f2a618a2441afe00df3b4a89e0a58"
   },
   "source": [
    "### Ensure determinism in the results\n",
    "\n",
    "A common headache in this competition is the lack of determinism in the results due to cudnn. The following Kernel has a solution in Pytorch.\n",
    "\n",
    "See https://www.kaggle.com/hengzheng/pytorch-starter. "
   ]
  },
  {
   "cell_type": "code",
   "execution_count": 28,
   "metadata": {
    "_uuid": "58bbf87335799247586aaed16531f4d28d10ed4a"
   },
   "outputs": [],
   "source": [
    "def seed_everything(seed=1029):\n",
    "    random.seed(seed)\n",
    "    os.environ[\"PYTHONHASHSEED\"] = str(seed)\n",
    "    np.random.seed(seed)\n",
    "    torch.manual_seed(seed)\n",
    "    torch.cuda.manual_seed(seed)\n",
    "    torch.backends.cudnn.deterministic = True\n",
    "\n",
    "\n",
    "seed_everything()"
   ]
  },
  {
   "cell_type": "markdown",
   "metadata": {
    "_uuid": "c890692644acce2dc4f6e2f929d6d294faca4ad2"
   },
   "source": [
    "### Code for Loading Embeddings\n",
    "\n",
    "Functions taken from the kernel:https://www.kaggle.com/gmhost/gru-capsule\n"
   ]
  },
  {
   "cell_type": "code",
   "execution_count": 29,
   "metadata": {
    "_uuid": "7026ee1d913f54dd4b560f654efdb9f833581cd3"
   },
   "outputs": [],
   "source": [
    "## FUNCTIONS TAKEN FROM https://www.kaggle.com/gmhost/gru-capsule\n",
    "\n",
    "\n",
    "def load_glove(word_index):\n",
    "    EMBEDDING_FILE = \"../input/embeddings/glove.840B.300d/glove.840B.300d.txt\"\n",
    "\n",
    "    def get_coefs(word, *arr):\n",
    "        return word, np.asarray(arr, dtype=\"float32\")[:300]\n",
    "\n",
    "    embeddings_index = dict(get_coefs(*o.split(\" \")) for o in open(EMBEDDING_FILE))\n",
    "\n",
    "    all_embs = np.stack(embeddings_index.values())\n",
    "    emb_mean, emb_std = -0.005838499, 0.48782197\n",
    "    embed_size = all_embs.shape[1]\n",
    "\n",
    "    # word_index = tokenizer.word_index\n",
    "    nb_words = min(max_features, len(word_index))\n",
    "    embedding_matrix = np.random.normal(emb_mean, emb_std, (nb_words, embed_size))\n",
    "    for word, i in word_index.items():\n",
    "        if i >= max_features:\n",
    "            continue\n",
    "        embedding_vector = embeddings_index.get(word)\n",
    "        if embedding_vector is not None:\n",
    "            embedding_matrix[i] = embedding_vector\n",
    "        else:\n",
    "            embedding_vector = embeddings_index.get(word.capitalize())\n",
    "            if embedding_vector is not None:\n",
    "                embedding_matrix[i] = embedding_vector\n",
    "\n",
    "    return embedding_matrix\n",
    "\n",
    "\n",
    "def load_fasttext(word_index):\n",
    "    EMBEDDING_FILE = \"../input/embeddings/wiki-news-300d-1M/wiki-news-300d-1M.vec\"\n",
    "\n",
    "    def get_coefs(word, *arr):\n",
    "        return word, np.asarray(arr, dtype=\"float32\")\n",
    "\n",
    "    embeddings_index = dict(\n",
    "        get_coefs(*o.split(\" \")) for o in open(EMBEDDING_FILE) if len(o) > 100\n",
    "    )\n",
    "\n",
    "    all_embs = np.stack(embeddings_index.values())\n",
    "    emb_mean, emb_std = all_embs.mean(), all_embs.std()\n",
    "    embed_size = all_embs.shape[1]\n",
    "\n",
    "    # word_index = tokenizer.word_index\n",
    "    nb_words = min(max_features, len(word_index))\n",
    "    embedding_matrix = np.random.normal(emb_mean, emb_std, (nb_words, embed_size))\n",
    "    for word, i in word_index.items():\n",
    "        if i >= max_features:\n",
    "            continue\n",
    "        embedding_vector = embeddings_index.get(word)\n",
    "        if embedding_vector is not None:\n",
    "            embedding_matrix[i] = embedding_vector\n",
    "        else:\n",
    "            embedding_vector = embeddings_index.get(word.capitalize())\n",
    "            if embedding_vector is not None:\n",
    "                embedding_matrix[i] = embedding_vector\n",
    "            \n",
    "\n",
    "    return embedding_matrix\n",
    "\n",
    "\n",
    "def load_para(word_index):\n",
    "    EMBEDDING_FILE = \"../input/embeddings/paragram_300_sl999/paragram_300_sl999.txt\"\n",
    "\n",
    "    def get_coefs(word, *arr):\n",
    "        return word, np.asarray(arr, dtype=\"float32\")\n",
    "\n",
    "    embeddings_index = dict(\n",
    "        get_coefs(*o.split(\" \"))\n",
    "        for o in open(EMBEDDING_FILE, encoding=\"utf8\", errors=\"ignore\")\n",
    "        if len(o) > 100\n",
    "    )\n",
    "\n",
    "    all_embs = np.stack(embeddings_index.values())\n",
    "    emb_mean, emb_std = -0.0053247833, 0.49346462\n",
    "    embed_size = all_embs.shape[1]\n",
    "\n",
    "    # word_index = tokenizer.word_index\n",
    "    nb_words = min(max_features, len(word_index))\n",
    "    embedding_matrix = np.random.normal(emb_mean, emb_std, (nb_words, embed_size))\n",
    "    for word, i in word_index.items():\n",
    "        if i >= max_features:\n",
    "            continue\n",
    "        embedding_vector = embeddings_index.get(word)\n",
    "        if embedding_vector is not None:\n",
    "            embedding_matrix[i] = embedding_vector\n",
    "        else:\n",
    "            embedding_vector = embeddings_index.get(word.capitalize())\n",
    "            if embedding_vector is not None:\n",
    "                embedding_matrix[i] = embedding_vector\n",
    "            \n",
    "\n",
    "    return embedding_matrix"
   ]
  },
  {
   "cell_type": "markdown",
   "metadata": {
    "_uuid": "ea10c8e218a1280faa9802bcb7f1117c89ec96f9"
   },
   "source": [
    "## LOAD PROCESSED TRAINING DATA FROM DISK"
   ]
  },
  {
   "cell_type": "code",
   "execution_count": 30,
   "metadata": {
    "_uuid": "173753f0178464d2ba26baf22899884d76d1c83d"
   },
   "outputs": [],
   "source": [
    "df_train = pd.read_csv(\"../input/train.csv\")\n",
    "df_test = pd.read_csv(\"../input/test.csv\")\n",
    "df = pd.concat([df_train, df_test], sort=True)"
   ]
  },
  {
   "cell_type": "code",
   "execution_count": 31,
   "metadata": {
    "_uuid": "5cb425ffbf1f79c1edc4cad3da15a1c1aa53edca"
   },
   "outputs": [
    {
     "name": "stdout",
     "output_type": "stream",
     "text": [
      "# insincere questions: 1,225,312(93.81%) and # sincere questions: 80,810(6.19%)\n",
      "# Test samples: 56,370(0.043% of train samples)\n"
     ]
    }
   ],
   "source": [
    "sin = len(df_train[df_train[\"target\"] == 0])\n",
    "insin = len(df_train[df_train[\"target\"] == 1])\n",
    "persin = (sin / (sin + insin)) * 100\n",
    "perinsin = (insin / (sin + insin)) * 100\n",
    "print(\n",
    "    \"# insincere questions: {:,}({:.2f}%) and # sincere questions: {:,}({:.2f}%)\".format(\n",
    "        sin, persin, insin, perinsin\n",
    "    )\n",
    ")\n",
    "# print(\"Sinsere:{}% Insincere: {}%\".format(round(persin,2),round(perinsin,2)))\n",
    "print(\n",
    "    \"# Test samples: {:,}({:.3f}% of train samples)\".format(\n",
    "        len(df_test), len(df_test) / len(df_train)\n",
    "    )\n",
    ")"
   ]
  },
  {
   "cell_type": "markdown",
   "metadata": {
    "_uuid": "07e9890ec0b490cef57565f7dff953aa56ebd3dc"
   },
   "source": [
    "## Normalization\n",
    "\n",
    "Borrowed from:\n",
    "* How to: Preprocessing when using embeddings\n",
    "https://www.kaggle.com/christofhenkel/how-to-preprocessing-when-using-embeddings\n",
    "* Improve your Score with some Text Preprocessing https://www.kaggle.com/theoviel/improve-your-score-with-some-text-preprocessing"
   ]
  },
  {
   "cell_type": "code",
   "execution_count": 32,
   "metadata": {
    "_uuid": "28ebb28ba78972bb8d4fee9b53437045542d20fb"
   },
   "outputs": [],
   "source": [
    "def known_contractions(embed):\n",
    "    known = []\n",
    "    for contract in contraction_mapping:\n",
    "        if contract in embed:\n",
    "            known.append(contract)\n",
    "    return known\n",
    "\n",
    "\n",
    "def clean_contractions(text, mapping):\n",
    "    specials = [\"’\", \"‘\", \"´\", \"`\"]\n",
    "    for s in specials:\n",
    "        text = text.replace(s, \"'\")\n",
    "    text = \" \".join([mapping[t] if t in mapping else t for t in text.split(\" \")])\n",
    "    return text\n",
    "\n",
    "\n",
    "def correct_spelling(x, dic):\n",
    "    for word in dic.keys():\n",
    "        x = x.replace(word, dic[word])\n",
    "    return x\n",
    "\n",
    "\n",
    "def unknown_punct(embed, punct):\n",
    "    unknown = \"\"\n",
    "    for p in punct:\n",
    "        if p not in embed:\n",
    "            unknown += p\n",
    "            unknown += \" \"\n",
    "    return unknown\n",
    "\n",
    "\n",
    "def clean_numbers(x):\n",
    "    x = re.sub(\"[0-9]{5,}\", \"#####\", x)\n",
    "    x = re.sub(\"[0-9]{4}\", \"####\", x)\n",
    "    x = re.sub(\"[0-9]{3}\", \"###\", x)\n",
    "    x = re.sub(\"[0-9]{2}\", \"##\", x)\n",
    "    return x\n",
    "\n",
    "\n",
    "def clean_special_chars(text, punct, mapping):\n",
    "    for p in mapping:\n",
    "        text = text.replace(p, mapping[p])\n",
    "\n",
    "    for p in punct:\n",
    "        text = text.replace(p, f\" {p} \")\n",
    "\n",
    "    specials = {\n",
    "        \"\\u200b\": \" \",\n",
    "        \"…\": \" ... \",\n",
    "        \"\\ufeff\": \"\",\n",
    "        \"करना\": \"\",\n",
    "        \"है\": \"\",\n",
    "    }  # Other special characters that I have to deal with in last\n",
    "    for s in specials:\n",
    "        text = text.replace(s, specials[s])\n",
    "\n",
    "    return text\n"
   ]
  },
  {
   "cell_type": "code",
   "execution_count": 33,
   "metadata": {
    "_uuid": "abeab4c80d6829cf2eae706bfa7929e2871af81f"
   },
   "outputs": [],
   "source": [
    "puncts = [\n",
    "    \",\",\n",
    "    \".\",\n",
    "    '\"',\n",
    "    \":\",\n",
    "    \")\",\n",
    "    \"(\",\n",
    "    \"-\",\n",
    "    \"!\",\n",
    "    \"?\",\n",
    "    \"|\",\n",
    "    \";\",\n",
    "    \"'\",\n",
    "    \"$\",\n",
    "    \"&\",\n",
    "    \"/\",\n",
    "    \"[\",\n",
    "    \"]\",\n",
    "    \">\",\n",
    "    \"%\",\n",
    "    \"=\",\n",
    "    \"#\",\n",
    "    \"*\",\n",
    "    \"+\",\n",
    "    \"\\\\\",\n",
    "    \"•\",\n",
    "    \"~\",\n",
    "    \"@\",\n",
    "    \"£\",\n",
    "    \"·\",\n",
    "    \"_\",\n",
    "    \"{\",\n",
    "    \"}\",\n",
    "    \"©\",\n",
    "    \"^\",\n",
    "    \"®\",\n",
    "    \"`\",\n",
    "    \"<\",\n",
    "    \"→\",\n",
    "    \"°\",\n",
    "    \"€\",\n",
    "    \"™\",\n",
    "    \"›\",\n",
    "    \"♥\",\n",
    "    \"←\",\n",
    "    \"×\",\n",
    "    \"§\",\n",
    "    \"″\",\n",
    "    \"′\",\n",
    "    \"Â\",\n",
    "    \"█\",\n",
    "    \"½\",\n",
    "    \"à\",\n",
    "    \"…\",\n",
    "    \"“\",\n",
    "    \"★\",\n",
    "    \"”\",\n",
    "    \"–\",\n",
    "    \"●\",\n",
    "    \"â\",\n",
    "    \"►\",\n",
    "    \"−\",\n",
    "    \"¢\",\n",
    "    \"²\",\n",
    "    \"¬\",\n",
    "    \"░\",\n",
    "    \"¶\",\n",
    "    \"↑\",\n",
    "    \"±\",\n",
    "    \"¿\",\n",
    "    \"▾\",\n",
    "    \"═\",\n",
    "    \"¦\",\n",
    "    \"║\",\n",
    "    \"―\",\n",
    "    \"¥\",\n",
    "    \"▓\",\n",
    "    \"—\",\n",
    "    \"‹\",\n",
    "    \"─\",\n",
    "    \"▒\",\n",
    "    \"：\",\n",
    "    \"¼\",\n",
    "    \"⊕\",\n",
    "    \"▼\",\n",
    "    \"▪\",\n",
    "    \"†\",\n",
    "    \"■\",\n",
    "    \"’\",\n",
    "    \"▀\",\n",
    "    \"¨\",\n",
    "    \"▄\",\n",
    "    \"♫\",\n",
    "    \"☆\",\n",
    "    \"é\",\n",
    "    \"¯\",\n",
    "    \"♦\",\n",
    "    \"¤\",\n",
    "    \"▲\",\n",
    "    \"è\",\n",
    "    \"¸\",\n",
    "    \"¾\",\n",
    "    \"Ã\",\n",
    "    \"⋅\",\n",
    "    \"‘\",\n",
    "    \"∞\",\n",
    "    \"∙\",\n",
    "    \"）\",\n",
    "    \"↓\",\n",
    "    \"、\",\n",
    "    \"│\",\n",
    "    \"（\",\n",
    "    \"»\",\n",
    "    \"，\",\n",
    "    \"♪\",\n",
    "    \"╩\",\n",
    "    \"╚\",\n",
    "    \"³\",\n",
    "    \"・\",\n",
    "    \"╦\",\n",
    "    \"╣\",\n",
    "    \"╔\",\n",
    "    \"╗\",\n",
    "    \"▬\",\n",
    "    \"❤\",\n",
    "    \"ï\",\n",
    "    \"Ø\",\n",
    "    \"¹\",\n",
    "    \"≤\",\n",
    "    \"‡\",\n",
    "    \"√\",\n",
    "]\n",
    "\n",
    "\n",
    "def clean_text(x):\n",
    "    x = str(x)\n",
    "    for punct in puncts:\n",
    "        x = x.replace(punct, f\" {punct} \")\n",
    "    return x\n",
    "\n",
    "\n",
    "def clean_numbers(x):\n",
    "    x = re.sub(\"[0-9]{5,}\", \"#####\", x)\n",
    "    x = re.sub(\"[0-9]{4}\", \"####\", x)\n",
    "    x = re.sub(\"[0-9]{3}\", \"###\", x)\n",
    "    x = re.sub(\"[0-9]{2}\", \"##\", x)\n",
    "    return x\n",
    "\n",
    "\n",
    "mispell_dict = {\n",
    "    \"ain't\": \"is not\",\n",
    "    \"aren't\": \"are not\",\n",
    "    \"can't\": \"cannot\",\n",
    "    \"'cause\": \"because\",\n",
    "    \"could've\": \"could have\",\n",
    "    \"couldn't\": \"could not\",\n",
    "    \"didn't\": \"did not\",\n",
    "    \"doesn't\": \"does not\",\n",
    "    \"don't\": \"do not\",\n",
    "    \"hadn't\": \"had not\",\n",
    "    \"hasn't\": \"has not\",\n",
    "    \"haven't\": \"have not\",\n",
    "    \"he'd\": \"he would\",\n",
    "    \"he'll\": \"he will\",\n",
    "    \"he's\": \"he is\",\n",
    "    \"how'd\": \"how did\",\n",
    "    \"how'd'y\": \"how do you\",\n",
    "    \"how'll\": \"how will\",\n",
    "    \"how's\": \"how is\",\n",
    "    \"I'd\": \"I would\",\n",
    "    \"I'd've\": \"I would have\",\n",
    "    \"I'll\": \"I will\",\n",
    "    \"I'll've\": \"I will have\",\n",
    "    \"I'm\": \"I am\",\n",
    "    \"I've\": \"I have\",\n",
    "    \"i'd\": \"i would\",\n",
    "    \"i'd've\": \"i would have\",\n",
    "    \"i'll\": \"i will\",\n",
    "    \"i'll've\": \"i will have\",\n",
    "    \"i'm\": \"i am\",\n",
    "    \"i've\": \"i have\",\n",
    "    \"isn't\": \"is not\",\n",
    "    \"it'd\": \"it would\",\n",
    "    \"it'd've\": \"it would have\",\n",
    "    \"it'll\": \"it will\",\n",
    "    \"it'll've\": \"it will have\",\n",
    "    \"it's\": \"it is\",\n",
    "    \"let's\": \"let us\",\n",
    "    \"ma'am\": \"madam\",\n",
    "    \"mayn't\": \"may not\",\n",
    "    \"might've\": \"might have\",\n",
    "    \"mightn't\": \"might not\",\n",
    "    \"mightn't've\": \"might not have\",\n",
    "    \"must've\": \"must have\",\n",
    "    \"mustn't\": \"must not\",\n",
    "    \"mustn't've\": \"must not have\",\n",
    "    \"needn't\": \"need not\",\n",
    "    \"needn't've\": \"need not have\",\n",
    "    \"o'clock\": \"of the clock\",\n",
    "    \"oughtn't\": \"ought not\",\n",
    "    \"oughtn't've\": \"ought not have\",\n",
    "    \"shan't\": \"shall not\",\n",
    "    \"sha'n't\": \"shall not\",\n",
    "    \"shan't've\": \"shall not have\",\n",
    "    \"she'd\": \"she would\",\n",
    "    \"she'd've\": \"she would have\",\n",
    "    \"she'll\": \"she will\",\n",
    "    \"she'll've\": \"she will have\",\n",
    "    \"she's\": \"she is\",\n",
    "    \"should've\": \"should have\",\n",
    "    \"shouldn't\": \"should not\",\n",
    "    \"shouldn't've\": \"should not have\",\n",
    "    \"so've\": \"so have\",\n",
    "    \"so's\": \"so as\",\n",
    "    \"this's\": \"this is\",\n",
    "    \"that'd\": \"that would\",\n",
    "    \"that'd've\": \"that would have\",\n",
    "    \"that's\": \"that is\",\n",
    "    \"there'd\": \"there would\",\n",
    "    \"there'd've\": \"there would have\",\n",
    "    \"there's\": \"there is\",\n",
    "    \"here's\": \"here is\",\n",
    "    \"they'd\": \"they would\",\n",
    "    \"they'd've\": \"they would have\",\n",
    "    \"they'll\": \"they will\",\n",
    "    \"they'll've\": \"they will have\",\n",
    "    \"they're\": \"they are\",\n",
    "    \"they've\": \"they have\",\n",
    "    \"to've\": \"to have\",\n",
    "    \"wasn't\": \"was not\",\n",
    "    \"we'd\": \"we would\",\n",
    "    \"we'd've\": \"we would have\",\n",
    "    \"we'll\": \"we will\",\n",
    "    \"we'll've\": \"we will have\",\n",
    "    \"we're\": \"we are\",\n",
    "    \"we've\": \"we have\",\n",
    "    \"weren't\": \"were not\",\n",
    "    \"what'll\": \"what will\",\n",
    "    \"what'll've\": \"what will have\",\n",
    "    \"what're\": \"what are\",\n",
    "    \"what's\": \"what is\",\n",
    "    \"what've\": \"what have\",\n",
    "    \"when's\": \"when is\",\n",
    "    \"when've\": \"when have\",\n",
    "    \"where'd\": \"where did\",\n",
    "    \"where's\": \"where is\",\n",
    "    \"where've\": \"where have\",\n",
    "    \"who'll\": \"who will\",\n",
    "    \"who'll've\": \"who will have\",\n",
    "    \"who's\": \"who is\",\n",
    "    \"who've\": \"who have\",\n",
    "    \"why's\": \"why is\",\n",
    "    \"why've\": \"why have\",\n",
    "    \"will've\": \"will have\",\n",
    "    \"won't\": \"will not\",\n",
    "    \"won't've\": \"will not have\",\n",
    "    \"would've\": \"would have\",\n",
    "    \"wouldn't\": \"would not\",\n",
    "    \"wouldn't've\": \"would not have\",\n",
    "    \"y'all\": \"you all\",\n",
    "    \"y'all'd\": \"you all would\",\n",
    "    \"y'all'd've\": \"you all would have\",\n",
    "    \"y'all're\": \"you all are\",\n",
    "    \"y'all've\": \"you all have\",\n",
    "    \"you'd\": \"you would\",\n",
    "    \"you'd've\": \"you would have\",\n",
    "    \"you'll\": \"you will\",\n",
    "    \"you'll've\": \"you will have\",\n",
    "    \"you're\": \"you are\",\n",
    "    \"you've\": \"you have\",\n",
    "    \"colour\": \"color\",\n",
    "    \"centre\": \"center\",\n",
    "    \"favourite\": \"favorite\",\n",
    "    \"travelling\": \"traveling\",\n",
    "    \"counselling\": \"counseling\",\n",
    "    \"theatre\": \"theater\",\n",
    "    \"cancelled\": \"canceled\",\n",
    "    \"labour\": \"labor\",\n",
    "    \"organisation\": \"organization\",\n",
    "    \"wwii\": \"world war 2\",\n",
    "    \"citicise\": \"criticize\",\n",
    "    \"youtu \": \"youtube \",\n",
    "    \"Qoura\": \"Quora\",\n",
    "    \"sallary\": \"salary\",\n",
    "    \"Whta\": \"What\",\n",
    "    \"narcisist\": \"narcissist\",\n",
    "    \"howdo\": \"how do\",\n",
    "    \"whatare\": \"what are\",\n",
    "    \"howcan\": \"how can\",\n",
    "    \"howmuch\": \"how much\",\n",
    "    \"howmany\": \"how many\",\n",
    "    \"whydo\": \"why do\",\n",
    "    \"doI\": \"do I\",\n",
    "    \"theBest\": \"the best\",\n",
    "    \"howdoes\": \"how does\",\n",
    "    \"mastrubation\": \"masturbation\",\n",
    "    \"mastrubate\": \"masturbate\",\n",
    "    \"mastrubating\": \"masturbating\",\n",
    "    \"pennis\": \"penis\",\n",
    "    \"Etherium\": \"Ethereum\",\n",
    "    \"narcissit\": \"narcissist\",\n",
    "    \"bigdata\": \"big data\",\n",
    "    \"2k17\": \"2017\",\n",
    "    \"2k18\": \"2018\",\n",
    "    \"qouta\": \"quota\",\n",
    "    \"exboyfriend\": \"ex boyfriend\",\n",
    "    \"airhostess\": \"air hostess\",\n",
    "    \"whst\": \"what\",\n",
    "    \"watsapp\": \"whatsapp\",\n",
    "    \"demonitisation\": \"demonetization\",\n",
    "    \"demonitization\": \"demonetization\",\n",
    "    \"demonetisation\": \"demonetization\",\n",
    "}\n",
    "\n",
    "\n",
    "def _get_mispell(mispell_dict):\n",
    "    mispell_re = re.compile(\"(%s)\" % \"|\".join(mispell_dict.keys()))\n",
    "    return mispell_dict, mispell_re\n",
    "\n",
    "\n",
    "mispellings, mispellings_re = _get_mispell(mispell_dict)\n",
    "\n",
    "\n",
    "def replace_typical_misspell(text):\n",
    "    def replace(match):\n",
    "        return mispellings[match.group(0)]\n",
    "\n",
    "    return mispellings_re.sub(replace, text)"
   ]
  },
  {
   "cell_type": "code",
   "execution_count": 34,
   "metadata": {
    "_uuid": "63cb21525251b060aeb309e7be4b48772f8720f5"
   },
   "outputs": [],
   "source": [
    "from sklearn.preprocessing import StandardScaler\n",
    "\n",
    "\n",
    "def add_features(df):\n",
    "\n",
    "    df[\"question_text\"] = df[\"question_text\"].progress_apply(lambda x: str(x))\n",
    "    df[\"total_length\"] = df[\"question_text\"].progress_apply(len)\n",
    "    df[\"capitals\"] = df[\"question_text\"].progress_apply(\n",
    "        lambda comment: sum(1 for c in comment if c.isupper())\n",
    "    )\n",
    "    df[\"caps_vs_length\"] = df.progress_apply(\n",
    "        lambda row: float(row[\"capitals\"]) / float(row[\"total_length\"]), axis=1\n",
    "    )\n",
    "    df[\"num_words\"] = df.question_text.str.count(\"\\S+\")\n",
    "    df[\"num_unique_words\"] = df[\"question_text\"].progress_apply(\n",
    "        lambda comment: len(set(w for w in comment.split()))\n",
    "    )\n",
    "    df[\"words_vs_unique\"] = df[\"num_unique_words\"] / df[\"num_words\"]\n",
    "\n",
    "    return df\n",
    "\n",
    "\n",
    "def load_and_prec():\n",
    "    train_df = pd.read_csv(\"../input/train.csv\")\n",
    "    test_df = pd.read_csv(\"../input/test.csv\")\n",
    "    print(\"Train shape : \", train_df.shape)\n",
    "    print(\"Test shape : \", test_df.shape)\n",
    "\n",
    "    # lower\n",
    "    train_df[\"question_text\"] = train_df[\"question_text\"].apply(lambda x: x.lower())\n",
    "    test_df[\"question_text\"] = test_df[\"question_text\"].apply(lambda x: x.lower())\n",
    "\n",
    "    # Clean the text\n",
    "    train_df[\"question_text\"] = train_df[\"question_text\"].progress_apply(\n",
    "        lambda x: clean_text(x)\n",
    "    )\n",
    "    test_df[\"question_text\"] = test_df[\"question_text\"].apply(lambda x: clean_text(x))\n",
    "\n",
    "    # Clean numbers\n",
    "    train_df[\"question_text\"] = train_df[\"question_text\"].progress_apply(\n",
    "        lambda x: clean_numbers(x)\n",
    "    )\n",
    "    test_df[\"question_text\"] = test_df[\"question_text\"].apply(\n",
    "        lambda x: clean_numbers(x)\n",
    "    )\n",
    "\n",
    "    # Clean speelings\n",
    "    train_df[\"question_text\"] = train_df[\"question_text\"].progress_apply(\n",
    "        lambda x: replace_typical_misspell(x)\n",
    "    )\n",
    "    test_df[\"question_text\"] = test_df[\"question_text\"].apply(\n",
    "        lambda x: replace_typical_misspell(x)\n",
    "    )\n",
    "\n",
    "    ## fill up the missing values\n",
    "    train_X = train_df[\"question_text\"].fillna(\"_##_\").values\n",
    "    test_X = test_df[\"question_text\"].fillna(\"_##_\").values\n",
    "\n",
    "    ###################### Add Features ###############################\n",
    "    train = add_features(train_df)\n",
    "    test = add_features(test_df)\n",
    "\n",
    "    features = train[[\"caps_vs_length\", \"words_vs_unique\"]].fillna(0)\n",
    "    test_features = test[[\"caps_vs_length\", \"words_vs_unique\"]].fillna(0)\n",
    "\n",
    "    ss = StandardScaler()\n",
    "    ss.fit(np.vstack((features, test_features)))\n",
    "    features = ss.transform(features)\n",
    "    test_features = ss.transform(test_features)\n",
    "    ###########################################################################\n",
    "\n",
    "    ## Tokenize the sentences\n",
    "    tokenizer = Tokenizer(num_words=max_features)\n",
    "    tokenizer.fit_on_texts(list(train_X))\n",
    "    train_X = tokenizer.texts_to_sequences(train_X)\n",
    "    test_X = tokenizer.texts_to_sequences(test_X)\n",
    "\n",
    "    ## Pad the sentences\n",
    "    train_X = pad_sequences(train_X, maxlen=maxlen)\n",
    "    test_X = pad_sequences(test_X, maxlen=maxlen)\n",
    "\n",
    "    ## Get the target values\n",
    "    train_y = train_df[\"target\"].values\n",
    "\n",
    "    # shuffling the data\n",
    "    np.random.seed(SEED)\n",
    "    trn_idx = np.random.permutation(len(train_X))\n",
    "\n",
    "    train_X = train_X[trn_idx]\n",
    "    train_y = train_y[trn_idx]\n",
    "    features = features[trn_idx]\n",
    "\n",
    "    return train_X, test_X, train_y, features, test_features, tokenizer.word_index\n",
    "\n",
    "\n",
    "#     return train_X, test_X, train_y, tokenizer.word_index"
   ]
  },
  {
   "cell_type": "code",
   "execution_count": 35,
   "metadata": {
    "_uuid": "3c72fcddb4f680879e231c3dbfc0c71e27fc424c"
   },
   "outputs": [
    {
     "name": "stdout",
     "output_type": "stream",
     "text": [
      "Train shape :  (1306122, 3)\n",
      "Test shape :  (56370, 2)\n"
     ]
    },
    {
     "data": {
      "application/vnd.jupyter.widget-view+json": {
       "model_id": "17c5b449cebd456b925458b3598a10ec",
       "version_major": 2,
       "version_minor": 0
      },
      "text/plain": [
       "HBox(children=(IntProgress(value=0, description='Progress', max=1306122, style=ProgressStyle(description_width…"
      ]
     },
     "metadata": {},
     "output_type": "display_data"
    },
    {
     "data": {
      "application/vnd.jupyter.widget-view+json": {
       "model_id": "f7c8e0d7d73c467f8c17d18d20c56dfc",
       "version_major": 2,
       "version_minor": 0
      },
      "text/plain": [
       "HBox(children=(IntProgress(value=0, description='Progress', max=1306122, style=ProgressStyle(description_width…"
      ]
     },
     "metadata": {},
     "output_type": "display_data"
    },
    {
     "data": {
      "application/vnd.jupyter.widget-view+json": {
       "model_id": "e168540402094045a4be76821fb96634",
       "version_major": 2,
       "version_minor": 0
      },
      "text/plain": [
       "HBox(children=(IntProgress(value=0, description='Progress', max=1306122, style=ProgressStyle(description_width…"
      ]
     },
     "metadata": {},
     "output_type": "display_data"
    },
    {
     "data": {
      "application/vnd.jupyter.widget-view+json": {
       "model_id": "8b1e5e4548fc489f8110ee0b84a1a0ee",
       "version_major": 2,
       "version_minor": 0
      },
      "text/plain": [
       "HBox(children=(IntProgress(value=0, description='Progress', max=1306122, style=ProgressStyle(description_width…"
      ]
     },
     "metadata": {},
     "output_type": "display_data"
    },
    {
     "data": {
      "application/vnd.jupyter.widget-view+json": {
       "model_id": "f1162dc1067e4bbd8629e4d52963e9aa",
       "version_major": 2,
       "version_minor": 0
      },
      "text/plain": [
       "HBox(children=(IntProgress(value=0, description='Progress', max=1306122, style=ProgressStyle(description_width…"
      ]
     },
     "metadata": {},
     "output_type": "display_data"
    },
    {
     "data": {
      "application/vnd.jupyter.widget-view+json": {
       "model_id": "376a93403d934457a373e67faa4864e4",
       "version_major": 2,
       "version_minor": 0
      },
      "text/plain": [
       "HBox(children=(IntProgress(value=0, description='Progress', max=1306122, style=ProgressStyle(description_width…"
      ]
     },
     "metadata": {},
     "output_type": "display_data"
    },
    {
     "data": {
      "application/vnd.jupyter.widget-view+json": {
       "model_id": "4339183169514be68374eda8cab32a3f",
       "version_major": 2,
       "version_minor": 0
      },
      "text/plain": [
       "HBox(children=(IntProgress(value=0, description='Progress', max=1306122, style=ProgressStyle(description_width…"
      ]
     },
     "metadata": {},
     "output_type": "display_data"
    },
    {
     "data": {
      "application/vnd.jupyter.widget-view+json": {
       "model_id": "491e81ba00d54c4b824188e80ed78111",
       "version_major": 2,
       "version_minor": 0
      },
      "text/plain": [
       "HBox(children=(IntProgress(value=0, description='Progress', max=1306122, style=ProgressStyle(description_width…"
      ]
     },
     "metadata": {},
     "output_type": "display_data"
    },
    {
     "data": {
      "application/vnd.jupyter.widget-view+json": {
       "model_id": "a69ffa6ccdbd4e84b535e66c521304bc",
       "version_major": 2,
       "version_minor": 0
      },
      "text/plain": [
       "HBox(children=(IntProgress(value=0, description='Progress', max=56370, style=ProgressStyle(description_width='…"
      ]
     },
     "metadata": {},
     "output_type": "display_data"
    },
    {
     "data": {
      "application/vnd.jupyter.widget-view+json": {
       "model_id": "de4778f4b759429cab4a82393213cea7",
       "version_major": 2,
       "version_minor": 0
      },
      "text/plain": [
       "HBox(children=(IntProgress(value=0, description='Progress', max=56370, style=ProgressStyle(description_width='…"
      ]
     },
     "metadata": {},
     "output_type": "display_data"
    },
    {
     "data": {
      "application/vnd.jupyter.widget-view+json": {
       "model_id": "dae46c8bfaec4425bd0baa25128d4ff3",
       "version_major": 2,
       "version_minor": 0
      },
      "text/plain": [
       "HBox(children=(IntProgress(value=0, description='Progress', max=56370, style=ProgressStyle(description_width='…"
      ]
     },
     "metadata": {},
     "output_type": "display_data"
    },
    {
     "data": {
      "application/vnd.jupyter.widget-view+json": {
       "model_id": "8c21ff1cd852428ba6e1cc46b6443ca9",
       "version_major": 2,
       "version_minor": 0
      },
      "text/plain": [
       "HBox(children=(IntProgress(value=0, description='Progress', max=56370, style=ProgressStyle(description_width='…"
      ]
     },
     "metadata": {},
     "output_type": "display_data"
    },
    {
     "data": {
      "application/vnd.jupyter.widget-view+json": {
       "model_id": "1d701c9fdb2f42a9b462ab77eec5cb83",
       "version_major": 2,
       "version_minor": 0
      },
      "text/plain": [
       "HBox(children=(IntProgress(value=0, description='Progress', max=56370, style=ProgressStyle(description_width='…"
      ]
     },
     "metadata": {},
     "output_type": "display_data"
    }
   ],
   "source": [
    "# fill up the missing values\n",
    "# x_train, x_test, y_train, word_index = load_and_prec()\n",
    "x_train, x_test, y_train, features, test_features, word_index = load_and_prec()"
   ]
  },
  {
   "cell_type": "code",
   "execution_count": 38,
   "metadata": {
    "_uuid": "6db7b1d3f22a6e35699d9f0dbb51343e249d9ee7"
   },
   "outputs": [
    {
     "data": {
      "text/plain": [
       "(1306122, 2)"
      ]
     },
     "execution_count": 38,
     "metadata": {},
     "output_type": "execute_result"
    }
   ],
   "source": [
    "features.shape"
   ]
  },
  {
   "cell_type": "markdown",
   "metadata": {
    "_uuid": "e5c51a8329d569d13b9f0369ebb98ca8e2e55440"
   },
   "source": [
    "### Load Embeddings\n",
    "\n",
    "Two embedding matrices have been used. Glove, and paragram. The mean of the two is used as the final embedding matrix"
   ]
  },
  {
   "cell_type": "code",
   "execution_count": 39,
   "metadata": {
    "_uuid": "6a5f4502324d369ff6faa3692accee4f8a233005"
   },
   "outputs": [],
   "source": [
    "# missing entries in the embedding are set using np.random.normal so we have to seed here too\n",
    "seed_everything()\n",
    "\n",
    "glove_embeddings = load_glove(word_index)\n",
    "paragram_embeddings = load_para(word_index)\n",
    "\n",
    "embedding_matrix = np.mean([glove_embeddings, paragram_embeddings], axis=0)\n",
    "\n",
    "# vocab = build_vocab(df['question_text'])\n",
    "# add_lower(embedding_matrix, vocab)\n",
    "del glove_embeddings, paragram_embeddings\n",
    "gc.collect()\n",
    "\n",
    "np.shape(embedding_matrix)"
   ]
  },
  {
   "cell_type": "markdown",
   "metadata": {
    "_uuid": "5264b1a511613e0cb9cffc11e93e906f932be191"
   },
   "source": [
    "### SAVE DATASET TO DISK"
   ]
  },
  {
   "cell_type": "code",
   "execution_count": 36,
   "metadata": {
    "_uuid": "7dc2704001695c0d691fec74cc111308da3fc340"
   },
   "outputs": [],
   "source": [
    "np.save(\"x_train\", x_train)\n",
    "np.save(\"x_test\", x_test)\n",
    "np.save(\"y_train\", y_train)\n",
    "\n",
    "np.save(\"features\", features)\n",
    "np.save(\"test_features\", test_features)\n",
    "np.save(\"word_index.npy\", word_index)\n",
    "np.save(\"embedding_matrix\", embedding_matrix)"
   ]
  },
  {
   "cell_type": "markdown",
   "metadata": {
    "_uuid": "ef622350c3ac00bcbea516ccf7dffbeca7b4cc39"
   },
   "source": [
    "### LOAD DATASET FROM DISK"
   ]
  },
  {
   "cell_type": "code",
   "execution_count": 37,
   "metadata": {
    "_uuid": "6e1f33f0d744e86cfbcc21b8e696bb568ba1c454"
   },
   "outputs": [],
   "source": [
    "x_train = np.load(\"x_train.npy\")\n",
    "x_test = np.load(\"x_test.npy\")\n",
    "y_train = np.load(\"y_train.npy\")\n",
    "features = np.load(\"features.npy\")\n",
    "test_features = np.load(\"test_features.npy\")\n",
    "word_index = np.load(\"word_index.npy\").item()\n",
    "embedding_matrix = np.load(\"embedding_matrix.npy\")"
   ]
  },
  {
   "cell_type": "markdown",
   "metadata": {
    "_uuid": "d3b707858357eec18403f97368a40c43987b40e8"
   },
   "source": [
    "### Use Stratified K Fold to improve results"
   ]
  },
  {
   "cell_type": "code",
   "execution_count": 40,
   "metadata": {
    "_uuid": "3318b7a65ae3c46f881553a20a0163cbe7116fb9"
   },
   "outputs": [],
   "source": [
    "# x_train = list(zip(x_train,features))"
   ]
  },
  {
   "cell_type": "code",
   "execution_count": 41,
   "metadata": {
    "_uuid": "fa55c64890964220ded1762236e091e59e502e53"
   },
   "outputs": [
    {
     "data": {
      "text/plain": [
       "[(array([      0,       1,       2, ..., 1306119, 1306120, 1306121]),\n",
       "  array([      5,       9,      11, ..., 1306109, 1306111, 1306118])),\n",
       " (array([      0,       1,       3, ..., 1306119, 1306120, 1306121]),\n",
       "  array([      2,       6,      18, ..., 1306093, 1306108, 1306116])),\n",
       " (array([      2,       5,       6, ..., 1306118, 1306120, 1306121]),\n",
       "  array([      0,       1,       3, ..., 1306110, 1306114, 1306119])),\n",
       " (array([      0,       1,       2, ..., 1306118, 1306119, 1306121]),\n",
       "  array([      7,      13,      22, ..., 1306112, 1306113, 1306120])),\n",
       " (array([      0,       1,       2, ..., 1306118, 1306119, 1306120]),\n",
       "  array([      8,      15,      20, ..., 1306115, 1306117, 1306121]))]"
      ]
     },
     "execution_count": 41,
     "metadata": {},
     "output_type": "execute_result"
    }
   ],
   "source": [
    "splits = list(\n",
    "    StratifiedKFold(n_splits=n_splits, shuffle=True, random_state=SEED).split(\n",
    "        x_train, y_train\n",
    "    )\n",
    ")\n",
    "splits"
   ]
  },
  {
   "cell_type": "markdown",
   "metadata": {
    "_uuid": "8098bea0cee9117ff9dc4e11feba53e49b80cb55"
   },
   "source": [
    "### Cyclic CLR\n",
    "Code taken from https://www.kaggle.com/dannykliu/lstm-with-attention-clr-in-pytorch"
   ]
  },
  {
   "cell_type": "code",
   "execution_count": 42,
   "metadata": {
    "_uuid": "9d531a7454923f90d0e7443b1ed1373d008c2e88"
   },
   "outputs": [],
   "source": [
    "# code inspired from: https://github.com/anandsaha/pytorch.cyclic.learning.rate/blob/master/cls.py\n",
    "class CyclicLR(object):\n",
    "    def __init__(\n",
    "        self,\n",
    "        optimizer,\n",
    "        base_lr=1e-3,\n",
    "        max_lr=6e-3,\n",
    "        step_size=2000,\n",
    "        mode=\"triangular\",\n",
    "        gamma=1.0,\n",
    "        scale_fn=None,\n",
    "        scale_mode=\"cycle\",\n",
    "        last_batch_iteration=-1,\n",
    "    ):\n",
    "\n",
    "        if not isinstance(optimizer, Optimizer):\n",
    "            raise TypeError(\"{} is not an Optimizer\".format(type(optimizer).__name__))\n",
    "        self.optimizer = optimizer\n",
    "\n",
    "        if isinstance(base_lr, list) or isinstance(base_lr, tuple):\n",
    "            if len(base_lr) != len(optimizer.param_groups):\n",
    "                raise ValueError(\n",
    "                    \"expected {} base_lr, got {}\".format(\n",
    "                        len(optimizer.param_groups), len(base_lr)\n",
    "                    )\n",
    "                )\n",
    "            self.base_lrs = list(base_lr)\n",
    "        else:\n",
    "            self.base_lrs = [base_lr] * len(optimizer.param_groups)\n",
    "\n",
    "        if isinstance(max_lr, list) or isinstance(max_lr, tuple):\n",
    "            if len(max_lr) != len(optimizer.param_groups):\n",
    "                raise ValueError(\n",
    "                    \"expected {} max_lr, got {}\".format(\n",
    "                        len(optimizer.param_groups), len(max_lr)\n",
    "                    )\n",
    "                )\n",
    "            self.max_lrs = list(max_lr)\n",
    "        else:\n",
    "            self.max_lrs = [max_lr] * len(optimizer.param_groups)\n",
    "\n",
    "        self.step_size = step_size\n",
    "\n",
    "        if mode not in [\"triangular\", \"triangular2\", \"exp_range\"] and scale_fn is None:\n",
    "            raise ValueError(\"mode is invalid and scale_fn is None\")\n",
    "\n",
    "        self.mode = mode\n",
    "        self.gamma = gamma\n",
    "\n",
    "        if scale_fn is None:\n",
    "            if self.mode == \"triangular\":\n",
    "                self.scale_fn = self._triangular_scale_fn\n",
    "                self.scale_mode = \"cycle\"\n",
    "            elif self.mode == \"triangular2\":\n",
    "                self.scale_fn = self._triangular2_scale_fn\n",
    "                self.scale_mode = \"cycle\"\n",
    "            elif self.mode == \"exp_range\":\n",
    "                self.scale_fn = self._exp_range_scale_fn\n",
    "                self.scale_mode = \"iterations\"\n",
    "        else:\n",
    "            self.scale_fn = scale_fn\n",
    "            self.scale_mode = scale_mode\n",
    "\n",
    "        self.batch_step(last_batch_iteration + 1)\n",
    "        self.last_batch_iteration = last_batch_iteration\n",
    "\n",
    "    def batch_step(self, batch_iteration=None):\n",
    "        if batch_iteration is None:\n",
    "            batch_iteration = self.last_batch_iteration + 1\n",
    "        self.last_batch_iteration = batch_iteration\n",
    "        for param_group, lr in zip(self.optimizer.param_groups, self.get_lr()):\n",
    "            param_group[\"lr\"] = lr\n",
    "\n",
    "    def _triangular_scale_fn(self, x):\n",
    "        return 1.0\n",
    "\n",
    "    def _triangular2_scale_fn(self, x):\n",
    "        return 1 / (2.0 ** (x - 1))\n",
    "\n",
    "    def _exp_range_scale_fn(self, x):\n",
    "        return self.gamma ** (x)\n",
    "\n",
    "    def get_lr(self):\n",
    "        step_size = float(self.step_size)\n",
    "        cycle = np.floor(1 + self.last_batch_iteration / (2 * step_size))\n",
    "        x = np.abs(self.last_batch_iteration / step_size - 2 * cycle + 1)\n",
    "\n",
    "        lrs = []\n",
    "        param_lrs = zip(self.optimizer.param_groups, self.base_lrs, self.max_lrs)\n",
    "        for param_group, base_lr, max_lr in param_lrs:\n",
    "            base_height = (max_lr - base_lr) * np.maximum(0, (1 - x))\n",
    "            if self.scale_mode == \"cycle\":\n",
    "                lr = base_lr + base_height * self.scale_fn(cycle)\n",
    "            else:\n",
    "                lr = base_lr + base_height * self.scale_fn(self.last_batch_iteration)\n",
    "            lrs.append(lr)\n",
    "        return lrs"
   ]
  },
  {
   "cell_type": "markdown",
   "metadata": {
    "_uuid": "b8caecb207a12d4a5524fe16e4524b31c7da8bac"
   },
   "source": [
    "### Model Architecture\n",
    "\n",
    "Binary LSTM with an attention layer and an additional fully connected layer.\n",
    "\n",
    "Initial idea borrowed from: https://www.kaggle.com/ziliwang/baseline-pytorch-bilstm"
   ]
  },
  {
   "cell_type": "code",
   "execution_count": 43,
   "metadata": {
    "_uuid": "170b27f66c7e546d8e84c79357d40f86c6b1ec42"
   },
   "outputs": [],
   "source": [
    "class Attention(nn.Module):\n",
    "    def __init__(self, feature_dim, step_dim, bias=True, **kwargs):\n",
    "        super(Attention, self).__init__(**kwargs)\n",
    "\n",
    "        self.supports_masking = True\n",
    "\n",
    "        self.bias = bias\n",
    "        self.feature_dim = feature_dim\n",
    "        self.step_dim = step_dim\n",
    "        self.features_dim = 0\n",
    "\n",
    "        weight = torch.zeros(feature_dim, 1)\n",
    "        nn.init.xavier_uniform_(weight)\n",
    "        self.weight = nn.Parameter(weight)\n",
    "\n",
    "        if bias:\n",
    "            self.b = nn.Parameter(torch.zeros(step_dim))\n",
    "\n",
    "    def forward(self, x, mask=None):\n",
    "        feature_dim = self.feature_dim\n",
    "        step_dim = self.step_dim\n",
    "\n",
    "        eij = torch.mm(x.contiguous().view(-1, feature_dim), self.weight).view(\n",
    "            -1, step_dim\n",
    "        )\n",
    "\n",
    "        if self.bias:\n",
    "            eij = eij + self.b\n",
    "\n",
    "        eij = torch.tanh(eij)\n",
    "        a = torch.exp(eij)\n",
    "\n",
    "        if mask is not None:\n",
    "            a = a * mask\n",
    "\n",
    "        a = a / torch.sum(a, 1, keepdim=True) + 1e-10\n",
    "\n",
    "        weighted_input = x * torch.unsqueeze(a, -1)\n",
    "        return torch.sum(weighted_input, 1)\n",
    "\n",
    "filter_sizes = [3,4,5]\n",
    "class NeuralNet(nn.Module):\n",
    "    def __init__(self):\n",
    "        super(NeuralNet, self).__init__()\n",
    "\n",
    "        hidden_size = 80\n",
    "        fc_layer = 64\n",
    "        fc_layer1 = 64\n",
    "\n",
    "        self.embedding = nn.Embedding(max_features, embed_size)\n",
    "        self.embedding.weight = nn.Parameter(\n",
    "            torch.tensor(embedding_matrix, dtype=torch.float32)\n",
    "        )\n",
    "        self.embedding.weight.requires_grad = False\n",
    "\n",
    "        self.embedding_dropout = nn.Dropout2d(0.1)\n",
    "        self.lstm = nn.LSTM(\n",
    "            embed_size, hidden_size, bidirectional=True, batch_first=True\n",
    "        )\n",
    "        self.gru = nn.GRU(\n",
    "            hidden_size * 2, hidden_size, bidirectional=True, batch_first=True\n",
    "        )\n",
    "\n",
    "        self.lstm_attention = Attention(hidden_size * 2, maxlen)\n",
    "        self.gru_attention = Attention(hidden_size * 2, maxlen)\n",
    "\n",
    "        self.linear = nn.Linear(hidden_size*8+features.shape[1], fc_layer1)\n",
    "        self.relu = nn.ReLU()\n",
    "        self.dropout = nn.Dropout(0.1)\n",
    "        self.out = nn.Linear(fc_layer, 1)\n",
    "\n",
    "    def forward(self, x):\n",
    "\n",
    "        h_embedding = self.embedding(x[0])\n",
    "        h_embedding = torch.squeeze(\n",
    "            self.embedding_dropout(torch.unsqueeze(h_embedding, 0))\n",
    "        )\n",
    "\n",
    "        h_lstm, _ = self.lstm(h_embedding)\n",
    "        h_gru, _ = self.gru(h_lstm)\n",
    "\n",
    "        h_lstm_atten = self.lstm_attention(h_lstm)\n",
    "        h_gru_atten = self.gru_attention(h_gru)\n",
    "\n",
    "        # global average pooling\n",
    "        avg_pool = torch.mean(h_gru, 1)\n",
    "        # global max pooling\n",
    "        max_pool, _ = torch.max(h_gru, 1)\n",
    "\n",
    "        f = torch.tensor(x[1], dtype=torch.float).cuda()\n",
    "           \n",
    "        conc = torch.cat((h_lstm_atten, h_gru_atten, avg_pool, max_pool, f), 1)\n",
    "        conc = self.relu(self.linear(conc))\n",
    "        conc = self.dropout(conc)\n",
    "\n",
    "        out = self.out(conc)\n",
    "\n",
    "        return out"
   ]
  },
  {
   "cell_type": "markdown",
   "metadata": {
    "_uuid": "e4e47597cde552a41cdd8ec2531aa6a861e491ae"
   },
   "source": [
    "### Training\n",
    "\n",
    "The method is borrowed from https://www.kaggle.com/hengzheng/pytorch-starter"
   ]
  },
  {
   "cell_type": "code",
   "execution_count": 44,
   "metadata": {
    "_uuid": "2d48687b6e8aac8087efb3c8e757fa8e412ddef3"
   },
   "outputs": [],
   "source": [
    "class MyDataset(Dataset):\n",
    "    def __init__(self, dataset):\n",
    "        self.dataset = dataset\n",
    "\n",
    "    def __getitem__(self, index):\n",
    "        data, target = self.dataset[index]\n",
    "\n",
    "        return data, target, index\n",
    "\n",
    "    def __len__(self):\n",
    "        return len(self.dataset)"
   ]
  },
  {
   "cell_type": "code",
   "execution_count": 45,
   "metadata": {
    "_uuid": "2cfdd46b117a11af54ed01f1f9511782e50a00fa"
   },
   "outputs": [
    {
     "name": "stdout",
     "output_type": "stream",
     "text": [
      "Fold 1\n",
      "Epoch 1/5 \t loss=64.6848 \t val_loss=53.2431 \t time=60.57s\n",
      "Epoch 2/5 \t loss=56.9085 \t val_loss=50.1650 \t time=60.73s\n",
      "Epoch 3/5 \t loss=53.4665 \t val_loss=49.9107 \t time=60.66s\n",
      "Epoch 4/5 \t loss=49.8600 \t val_loss=51.2505 \t time=60.73s\n",
      "Epoch 5/5 \t loss=45.9189 \t val_loss=52.7274 \t time=60.85s\n",
      "Fold 2\n",
      "Epoch 1/5 \t loss=64.1882 \t val_loss=52.5542 \t time=60.53s\n",
      "Epoch 2/5 \t loss=56.8403 \t val_loss=50.3679 \t time=60.90s\n",
      "Epoch 3/5 \t loss=53.2946 \t val_loss=49.5997 \t time=60.76s\n",
      "Epoch 4/5 \t loss=49.7457 \t val_loss=50.9678 \t time=60.91s\n",
      "Epoch 5/5 \t loss=45.8465 \t val_loss=52.0006 \t time=60.83s\n",
      "Fold 3\n",
      "Epoch 1/5 \t loss=64.6198 \t val_loss=52.9123 \t time=61.37s\n",
      "Epoch 2/5 \t loss=56.8832 \t val_loss=51.3901 \t time=60.89s\n",
      "Epoch 3/5 \t loss=53.2824 \t val_loss=50.1540 \t time=61.04s\n",
      "Epoch 4/5 \t loss=50.0707 \t val_loss=50.6439 \t time=60.74s\n",
      "Epoch 5/5 \t loss=46.1476 \t val_loss=52.1493 \t time=60.71s\n",
      "Fold 4\n",
      "Epoch 1/5 \t loss=64.2750 \t val_loss=53.4745 \t time=60.80s\n",
      "Epoch 2/5 \t loss=56.7521 \t val_loss=51.1038 \t time=60.94s\n",
      "Epoch 3/5 \t loss=52.9254 \t val_loss=50.5370 \t time=61.27s\n",
      "Epoch 4/5 \t loss=49.7448 \t val_loss=51.0742 \t time=60.90s\n",
      "Epoch 5/5 \t loss=45.4849 \t val_loss=52.9230 \t time=60.60s\n",
      "Fold 5\n",
      "Epoch 1/5 \t loss=64.6793 \t val_loss=52.7692 \t time=61.00s\n",
      "Epoch 2/5 \t loss=57.0117 \t val_loss=50.0069 \t time=60.96s\n",
      "Epoch 3/5 \t loss=53.2310 \t val_loss=49.2861 \t time=61.03s\n",
      "Epoch 4/5 \t loss=50.0148 \t val_loss=50.5354 \t time=60.71s\n",
      "Epoch 5/5 \t loss=45.7932 \t val_loss=51.7642 \t time=61.23s\n"
     ]
    }
   ],
   "source": [
    "def sigmoid(x):\n",
    "    return 1 / (1 + np.exp(-x))\n",
    "\n",
    "\n",
    "# matrix for the out-of-fold predictions\n",
    "train_preds = np.zeros((len(df_train)))\n",
    "# matrix for the predictions on the test set\n",
    "test_preds = np.zeros((len(df_test)))\n",
    "\n",
    "# always call this before training for deterministic results\n",
    "seed_everything()\n",
    "\n",
    "x_test_cuda = torch.tensor(x_test, dtype=torch.long).cuda()\n",
    "test = torch.utils.data.TensorDataset(x_test_cuda)\n",
    "test_loader = torch.utils.data.DataLoader(test, batch_size=batch_size, shuffle=False)\n",
    "\n",
    "\n",
    "for i, (train_idx, valid_idx) in enumerate(splits):\n",
    "    # split data in train / validation according to the KFold indeces\n",
    "    # also, convert them to a torch tensor and store them on the GPU (done with .cuda())\n",
    "    x_train_fold = torch.tensor(x_train[train_idx], dtype=torch.long).cuda()\n",
    "    y_train_fold = torch.tensor(\n",
    "        y_train[train_idx, np.newaxis], dtype=torch.float32\n",
    "    ).cuda()\n",
    "\n",
    "    kfold_X_features = features[train_idx]\n",
    "    kfold_X_valid_features = features[valid_idx]\n",
    "\n",
    "    x_val_fold = torch.tensor(x_train[valid_idx], dtype=torch.long).cuda()\n",
    "    y_val_fold = torch.tensor(\n",
    "        y_train[valid_idx, np.newaxis], dtype=torch.float32\n",
    "    ).cuda()\n",
    "\n",
    "    #     model = BiLSTM(lstm_layer=2,hidden_dim=40,dropout=DROPOUT).cuda()\n",
    "    model = NeuralNet()\n",
    "\n",
    "    # make sure everything in the model is running on the GPU\n",
    "    model.cuda()\n",
    "\n",
    "    # define binary cross entropy loss\n",
    "    # note that the model returns logit to take advantage of the log-sum-exp trick\n",
    "    # for numerical stability in the loss\n",
    "    loss_fn = torch.nn.BCEWithLogitsLoss(reduction=\"sum\")\n",
    "\n",
    "    step_size = 300\n",
    "    base_lr, max_lr = 0.001, 0.003\n",
    "    optimizer = torch.optim.Adam(\n",
    "        filter(lambda p: p.requires_grad, model.parameters()), lr=max_lr\n",
    "    )\n",
    "\n",
    "    ################################################################################################\n",
    "    scheduler = CyclicLR(\n",
    "        optimizer,\n",
    "        base_lr=base_lr,\n",
    "        max_lr=max_lr,\n",
    "        step_size=step_size,\n",
    "        mode=\"exp_range\",\n",
    "        gamma=0.99994,\n",
    "    )\n",
    "    ###############################################################################################\n",
    "\n",
    "    train = torch.utils.data.TensorDataset(x_train_fold, y_train_fold)\n",
    "    valid = torch.utils.data.TensorDataset(x_val_fold, y_val_fold)\n",
    "\n",
    "    train = MyDataset(train)\n",
    "    valid = MyDataset(valid)\n",
    "\n",
    "    train_loader = torch.utils.data.DataLoader(\n",
    "        train, batch_size=batch_size, shuffle=True\n",
    "    )\n",
    "    valid_loader = torch.utils.data.DataLoader(\n",
    "        valid, batch_size=batch_size, shuffle=False\n",
    "    )\n",
    "\n",
    "    print(f\"Fold {i + 1}\")\n",
    "\n",
    "    for epoch in range(n_epochs):\n",
    "        # set train mode of the model. This enables operations which are only applied during training like dropout\n",
    "        start_time = time.time()\n",
    "        model.train()\n",
    "\n",
    "        avg_loss = 0.0\n",
    "        for i, (x_batch, y_batch, index) in enumerate(train_loader):\n",
    "            # Forward pass: compute predicted y by passing x to the model.\n",
    "            ################################################################################################\n",
    "            f = kfold_X_features[index]\n",
    "            y_pred = model([x_batch, f])\n",
    "            ################################################################################################\n",
    "\n",
    "            ################################################################################################\n",
    "\n",
    "            if scheduler:\n",
    "                scheduler.batch_step()\n",
    "            ################################################################################################\n",
    "\n",
    "            # Compute and print loss.\n",
    "            loss = loss_fn(y_pred, y_batch)\n",
    "\n",
    "            # Before the backward pass, use the optimizer object to zero all of the\n",
    "            # gradients for the Tensors it will update (which are the learnable weights\n",
    "            # of the model)\n",
    "            optimizer.zero_grad()\n",
    "\n",
    "            # Backward pass: compute gradient of the loss with respect to model parameters\n",
    "            loss.backward()\n",
    "\n",
    "            # Calling the step function on an Optimizer makes an update to its parameters\n",
    "            optimizer.step()\n",
    "            avg_loss += loss.item() / len(train_loader)\n",
    "\n",
    "        # set evaluation mode of the model. This disabled operations which are only applied during training like dropout\n",
    "        model.eval()\n",
    "\n",
    "        # predict all the samples in y_val_fold batch per batch\n",
    "        valid_preds_fold = np.zeros((x_val_fold.size(0)))\n",
    "        test_preds_fold = np.zeros((len(df_test)))\n",
    "\n",
    "        avg_val_loss = 0.0\n",
    "        for i, (x_batch, y_batch, index) in enumerate(valid_loader):\n",
    "            f = kfold_X_valid_features[index]\n",
    "            y_pred = model([x_batch, f]).detach()\n",
    "\n",
    "            avg_val_loss += loss_fn(y_pred, y_batch).item() / len(valid_loader)\n",
    "            valid_preds_fold[i * batch_size : (i + 1) * batch_size] = sigmoid(\n",
    "                y_pred.cpu().numpy()\n",
    "            )[:, 0]\n",
    "\n",
    "        elapsed_time = time.time() - start_time\n",
    "        print(\n",
    "            \"Epoch {}/{} \\t loss={:.4f} \\t val_loss={:.4f} \\t time={:.2f}s\".format(\n",
    "                epoch + 1, n_epochs, avg_loss, avg_val_loss, elapsed_time\n",
    "            )\n",
    "        )\n",
    "\n",
    "    # predict all samples in the test set batch per batch\n",
    "    for i, (x_batch,) in enumerate(test_loader):\n",
    "        f = test_features[i * batch_size : (i + 1) * batch_size]\n",
    "        y_pred = model([x_batch, f]).detach()\n",
    "\n",
    "        test_preds_fold[i * batch_size : (i + 1) * batch_size] = sigmoid(\n",
    "            y_pred.cpu().numpy()\n",
    "        )[:, 0]\n",
    "\n",
    "    train_preds[valid_idx] = valid_preds_fold\n",
    "    test_preds += test_preds_fold / len(splits)"
   ]
  },
  {
   "cell_type": "markdown",
   "metadata": {
    "_uuid": "1d2187d4bbf48350eaf365b6dd8b027d5be69e0c"
   },
   "source": [
    "### Find final Thresshold\n",
    "\n",
    "Borrowed from: https://www.kaggle.com/ziliwang/baseline-pytorch-bilstm"
   ]
  },
  {
   "cell_type": "code",
   "execution_count": 46,
   "metadata": {},
   "outputs": [
    {
     "name": "stdout",
     "output_type": "stream",
     "text": [
      "best threshold is 0.3524 with F1 score: 0.6790\n"
     ]
    }
   ],
   "source": [
    "np.seterr(divide='ignore', invalid='ignore')\n",
    "\n",
    "def bestThresshold_n(y_true, y_proba, plot=False):\n",
    "    precision, recall, thresholds = precision_recall_curve(y_true, y_proba)\n",
    "    thresholds = np.append(thresholds, 1.001) \n",
    "    F = 2 / (1/precision + 1/recall)\n",
    "    best_score = np.max(F)\n",
    "    best_th = thresholds[np.argmax(F)]\n",
    "    if plot:\n",
    "        plt.plot(thresholds, F, '-b')\n",
    "        plt.plot([best_th], [best_score], '*r')\n",
    "        plt.show()\n",
    "    search_result = {'threshold': best_th , 'f1': best_score}\n",
    "    print(\"best threshold is {:.4f} with F1 score: {:.4f}\".format(best_th, best_score))    \n",
    "    return best_th \n",
    "\n",
    "delta = bestThresshold_n(y_train, train_preds)"
   ]
  },
  {
   "cell_type": "code",
   "execution_count": 47,
   "metadata": {
    "_uuid": "d17dd7b0a92ec98134bf8996fd210edaadf7bed6"
   },
   "outputs": [],
   "source": [
    "submission = df_test[[\"qid\"]].copy()\n",
    "submission[\"prediction\"] = (test_preds > delta).astype(int)\n",
    "submission.to_csv(\"submission.csv\", index=False)"
   ]
  },
  {
   "cell_type": "code",
   "execution_count": 48,
   "metadata": {
    "_uuid": "a1a07a65e47b5dcefaac040f3f633dc077e8f61e"
   },
   "outputs": [
    {
     "name": "stdout",
     "output_type": "stream",
     "text": [
      "qid,prediction\r\n",
      "00014894849d00ba98a9,0\r\n",
      "000156468431f09b3cae,0\r\n",
      "000227734433360e1aae,0\r\n",
      "0005e06fbe3045bd2a92,0\r\n",
      "00068a0f7f41f50fc399,0\r\n",
      "000a2d30e3ffd70c070d,0\r\n",
      "000b67672ec9622ff761,0\r\n",
      "000b7fb1146d712c1105,0\r\n",
      "000d665a8ddc426a1907,0\r\n"
     ]
    }
   ],
   "source": [
    "!head submission.csv"
   ]
  }
 ],
 "metadata": {
  "kernelspec": {
   "display_name": "Python 3",
   "language": "python",
   "name": "python3"
  },
  "language_info": {
   "codemirror_mode": {
    "name": "ipython",
    "version": 3
   },
   "file_extension": ".py",
   "mimetype": "text/x-python",
   "name": "python",
   "nbconvert_exporter": "python",
   "pygments_lexer": "ipython3",
   "version": "3.6.6"
  }
 },
 "nbformat": 4,
 "nbformat_minor": 1
}
